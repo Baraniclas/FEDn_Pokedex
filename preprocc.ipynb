{
 "cells": [
  {
   "cell_type": "markdown",
   "metadata": {},
   "source": [
    "## Seperating data based on type"
   ]
  },
  {
   "cell_type": "code",
   "execution_count": 4,
   "metadata": {},
   "outputs": [],
   "source": [
    "import pandas as pd"
   ]
  },
  {
   "cell_type": "code",
   "execution_count": 5,
   "metadata": {},
   "outputs": [],
   "source": [
    "poke = pd.read_csv('data/Pokemon.csv')"
   ]
  },
  {
   "cell_type": "code",
   "execution_count": 6,
   "metadata": {},
   "outputs": [
    {
     "name": "stdout",
     "output_type": "stream",
     "text": [
      "Index(['#', 'Name', 'Type 1', 'Type 2', 'Total', 'HP', 'Attack', 'Defense',\n",
      "       'Sp. Atk', 'Sp. Def', 'Speed', 'Generation', 'Legendary'],\n",
      "      dtype='object')\n"
     ]
    }
   ],
   "source": [
    "print(poke.columns)\n",
    "poke['Type 1'] = poke['Type 1'].apply(lambda x: x.lower() if isinstance (x,str) else x)\n",
    "poke['Type 2'] = poke['Type 2'].apply(lambda x: x.lower() if isinstance (x,str) else x)"
   ]
  },
  {
   "cell_type": "code",
   "execution_count": 7,
   "metadata": {},
   "outputs": [],
   "source": [
    "type1_counts = poke['Type 1'].value_counts()\n",
    "type2_counts = poke['Type 2'].value_counts()\n",
    "\n",
    "type_unique = poke['Type 1'].unique()"
   ]
  },
  {
   "cell_type": "code",
   "execution_count": 8,
   "metadata": {},
   "outputs": [
    {
     "name": "stdout",
     "output_type": "stream",
     "text": [
      "Type 1 count: \n",
      "\n",
      "Type 1\n",
      "water       140\n",
      "normal      123\n",
      "grass       108\n",
      "bug          90\n",
      "fire         70\n",
      "psychic      70\n",
      "electric     67\n",
      "rock         61\n",
      "dark         48\n",
      "dragon       45\n",
      "ghost        44\n",
      "fighting     42\n",
      "ground       42\n",
      "poison       42\n",
      "steel        41\n",
      "ice          32\n",
      "fairy        29\n",
      "flying       10\n",
      "Name: count, dtype: int64\n",
      "----------------------------------------\n",
      "type 2 count: \n",
      "\n",
      "Type 2\n",
      "flying      110\n",
      "psychic      47\n",
      "poison       44\n",
      "ground       40\n",
      "fairy        40\n",
      "fighting     40\n",
      "dragon       37\n",
      "steel        34\n",
      "ghost        32\n",
      "grass        31\n",
      "dark         28\n",
      "water        22\n",
      "ice          21\n",
      "fire         18\n",
      "rock         16\n",
      "normal       13\n",
      "electric     10\n",
      "bug           9\n",
      "Name: count, dtype: int64\n",
      "----------------------------------------\n",
      "['grass' 'fire' 'water' 'bug' 'normal' 'poison' 'electric' 'ground'\n",
      " 'fairy' 'fighting' 'psychic' 'rock' 'ghost' 'ice' 'dragon' 'dark' 'steel'\n",
      " 'flying']\n"
     ]
    }
   ],
   "source": [
    "print(f'Type 1 count: \\n')\n",
    "print(type1_counts)\n",
    "print('-'*40)\n",
    "print('type 2 count: \\n')\n",
    "print(type2_counts)\n",
    "print('-'*40)\n",
    "print(type_unique)"
   ]
  },
  {
   "cell_type": "code",
   "execution_count": 9,
   "metadata": {},
   "outputs": [
    {
     "name": "stdout",
     "output_type": "stream",
     "text": [
      "bug          99\n",
      "dark         76\n",
      "dragon       82\n",
      "electric     77\n",
      "fairy        69\n",
      "fighting     82\n",
      "fire         88\n",
      "flying      120\n",
      "ghost        76\n",
      "grass       139\n",
      "ground       82\n",
      "ice          53\n",
      "normal      136\n",
      "poison       86\n",
      "psychic     117\n",
      "rock         77\n",
      "steel        75\n",
      "water       162\n",
      "Name: count, dtype: int64\n"
     ]
    }
   ],
   "source": [
    "tot_count = type1_counts.add(type2_counts, fill_value = 0)\n",
    "print(tot_count)\n"
   ]
  },
  {
   "cell_type": "code",
   "execution_count": 10,
   "metadata": {},
   "outputs": [],
   "source": [
    "poke_dummies = pd.get_dummies(poke['Type 2'], prefix='type2')\n",
    "poke_dummies = poke_dummies.astype(int)\n",
    "poke = pd.concat([poke, poke_dummies], axis = 1)"
   ]
  },
  {
   "cell_type": "code",
   "execution_count": 11,
   "metadata": {},
   "outputs": [],
   "source": [
    "poke_dummies = pd.get_dummies(poke['Type 1'], prefix = 'type1')\n",
    "poke_dummies = poke_dummies.astype(int)\n",
    "poke = pd.concat([poke, poke_dummies], axis= 1)"
   ]
  },
  {
   "cell_type": "code",
   "execution_count": 12,
   "metadata": {},
   "outputs": [],
   "source": [
    "wg = poke[(poke['Type 1'].isin(['water','grass'])) | (poke['Type 2'].isin(['water','grass']))]\n",
    "wg = wg.loc[:, (wg != 0).any(axis=0)]"
   ]
  },
  {
   "cell_type": "code",
   "execution_count": 13,
   "metadata": {},
   "outputs": [],
   "source": [
    "wg['type2_nan'] = wg['Type 2'].isna().astype(int)"
   ]
  },
  {
   "cell_type": "code",
   "execution_count": 14,
   "metadata": {},
   "outputs": [
    {
     "name": "stdout",
     "output_type": "stream",
     "text": [
      "#\n",
      "Name\n",
      "Type 1\n",
      "Type 2\n",
      "Total\n",
      "HP\n",
      "Attack\n",
      "Defense\n",
      "Sp. Atk\n",
      "Sp. Def\n",
      "Speed\n",
      "Generation\n",
      "Legendary\n",
      "type2_bug\n",
      "type2_dark\n",
      "type2_dragon\n",
      "type2_electric\n",
      "type2_fairy\n",
      "type2_fighting\n",
      "type2_flying\n",
      "type2_ghost\n",
      "type2_grass\n",
      "type2_ground\n",
      "type2_ice\n",
      "type2_normal\n",
      "type2_poison\n",
      "type2_psychic\n",
      "type2_rock\n",
      "type2_steel\n",
      "type2_water\n",
      "type1_bug\n",
      "type1_dark\n",
      "type1_dragon\n",
      "type1_electric\n",
      "type1_fire\n",
      "type1_flying\n",
      "type1_ghost\n",
      "type1_grass\n",
      "type1_ground\n",
      "type1_ice\n",
      "type1_normal\n",
      "type1_poison\n",
      "type1_psychic\n",
      "type1_rock\n",
      "type1_water\n",
      "type2_nan\n"
     ]
    }
   ],
   "source": [
    "for i in wg.columns:\n",
    "    print(i)"
   ]
  },
  {
   "cell_type": "code",
   "execution_count": 15,
   "metadata": {},
   "outputs": [
    {
     "name": "stdout",
     "output_type": "stream",
     "text": [
      "124\n"
     ]
    }
   ],
   "source": [
    "count = wg[wg['type2_nan'] == 1]\n",
    "print(len(count))"
   ]
  },
  {
   "cell_type": "code",
   "execution_count": 16,
   "metadata": {},
   "outputs": [],
   "source": [
    "wg['water'] = ((wg['type1_water'] == 1) | (wg['type2_water'] == 1)).astype(int)\n",
    "wg['grass'] = ((wg['type1_grass'] == 1) | (wg['type2_grass'] == 1)).astype(int)"
   ]
  },
  {
   "cell_type": "code",
   "execution_count": 17,
   "metadata": {},
   "outputs": [],
   "source": [
    "wg['Legendary'] = wg['Legendary'].astype(int)"
   ]
  },
  {
   "cell_type": "code",
   "execution_count": 18,
   "metadata": {},
   "outputs": [],
   "source": [
    "water = wg[(wg['Type 1'].isin(['water'])) | (wg['Type 2'].isin(['water']))]\n",
    "grass = wg[(wg['Type 1'].isin(['grass'])) | (wg['Type 2'].isin(['grass']))]\n"
   ]
  },
  {
   "cell_type": "code",
   "execution_count": 19,
   "metadata": {},
   "outputs": [
    {
     "name": "stdout",
     "output_type": "stream",
     "text": [
      "True\n"
     ]
    }
   ],
   "source": [
    "same_columns = water.columns.equals(grass.columns)\n",
    "print(same_columns)"
   ]
  },
  {
   "cell_type": "code",
   "execution_count": 20,
   "metadata": {},
   "outputs": [],
   "source": [
    "water = water.drop(columns=['Type 1', \"Type 2\", '#'])\n",
    "grass = grass.drop(columns=['Type 1', \"Type 2\", '#'])"
   ]
  },
  {
   "cell_type": "code",
   "execution_count": 21,
   "metadata": {},
   "outputs": [],
   "source": [
    "water.to_csv('water.csv')\n",
    "grass.to_csv('grass.csv')\n",
    "wg.to_csv('water_grass.csv')"
   ]
  },
  {
   "cell_type": "code",
   "execution_count": 22,
   "metadata": {},
   "outputs": [],
   "source": [
    "water1 = water.sample(frac = 0.5)\n",
    "water2 = water.drop(water1.index)\n",
    "\n",
    "grass1 = grass.sample(frac = 0.5)\n",
    "grass2 = grass.drop(grass1.index)"
   ]
  },
  {
   "cell_type": "code",
   "execution_count": 23,
   "metadata": {},
   "outputs": [],
   "source": [
    "water1.to_csv('water1.csv')\n",
    "water2.to_csv('water2.csv')\n",
    "grass1.to_csv('grass1.csv')\n",
    "grass2.to_csv('grass2.csv')"
   ]
  }
 ],
 "metadata": {
  "kernelspec": {
   "display_name": "Python 3",
   "language": "python",
   "name": "python3"
  },
  "language_info": {
   "codemirror_mode": {
    "name": "ipython",
    "version": 3
   },
   "file_extension": ".py",
   "mimetype": "text/x-python",
   "name": "python",
   "nbconvert_exporter": "python",
   "pygments_lexer": "ipython3",
   "version": "3.12.3"
  }
 },
 "nbformat": 4,
 "nbformat_minor": 2
}
