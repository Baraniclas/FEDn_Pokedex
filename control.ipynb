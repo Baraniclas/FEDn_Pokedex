{
 "cells": [
  {
   "cell_type": "markdown",
   "metadata": {},
   "source": [
    "\"control panel\""
   ]
  },
  {
   "cell_type": "code",
   "execution_count": null,
   "metadata": {},
   "outputs": [
    {
     "ename": "NameError",
     "evalue": "name '__file__' is not defined",
     "output_type": "error",
     "traceback": [
      "\u001b[31m---------------------------------------------------------------------------\u001b[39m",
      "\u001b[31mNameError\u001b[39m                                 Traceback (most recent call last)",
      "\u001b[36mCell\u001b[39m\u001b[36m \u001b[39m\u001b[32mIn[47]\u001b[39m\u001b[32m, line 4\u001b[39m\n\u001b[32m      2\u001b[39m \u001b[38;5;28;01mimport\u001b[39;00m\u001b[38;5;250m \u001b[39m\u001b[34;01mos\u001b[39;00m\n\u001b[32m      3\u001b[39m \u001b[38;5;28;01mimport\u001b[39;00m\u001b[38;5;250m \u001b[39m\u001b[34;01mjson\u001b[39;00m\n\u001b[32m----> \u001b[39m\u001b[32m4\u001b[39m secrets_path = os.path.join(os.path.dirname(\u001b[34;43m__file__\u001b[39;49m), \u001b[33m\"\u001b[39m\u001b[33msecrets.json\u001b[39m\u001b[33m\"\u001b[39m)\n\u001b[32m      5\u001b[39m \u001b[38;5;28;01mwith\u001b[39;00m \u001b[38;5;28mopen\u001b[39m(secrets_path, \u001b[33m\"\u001b[39m\u001b[33mr\u001b[39m\u001b[33m\"\u001b[39m) \u001b[38;5;28;01mas\u001b[39;00m f:\n\u001b[32m      6\u001b[39m     secrets = json.load(f)\n",
      "\u001b[31mNameError\u001b[39m: name '__file__' is not defined"
     ]
    }
   ],
   "source": [
    "from fedn import APIClient\n",
    "import os\n",
    "import json\n",
    "secrets_path = \"secrets.json\"\n",
    "with open(secrets_path, \"r\") as f:\n",
    "    secrets = json.load(f)\n",
    "token = secrets.get(\"FEDN_AUTH_TOKEN\")\n",
    "host = secrets.get(\"HOST\")\n",
    "\n",
    "client = APIClient(host=host, token=token, secure=True, verify=True)"
   ]
  },
  {
   "cell_type": "code",
   "execution_count": 41,
   "metadata": {},
   "outputs": [
    {
     "data": {
      "text/plain": [
       "{'message': 'Model added successfully', 'success': True}"
      ]
     },
     "execution_count": 41,
     "metadata": {},
     "output_type": "execute_result"
    }
   ],
   "source": [
    "client.set_active_package(\"package.tgz\", helper=\"numpyhelper\", name=\"my-package\")\n",
    "client.set_active_model(\"seed.npz\")"
   ]
  },
  {
   "cell_type": "code",
   "execution_count": 43,
   "metadata": {},
   "outputs": [],
   "source": [
    "client.start_session(name=\"test_session\", rounds=5)\n",
    "client.get_controller_status()\n",
    "models = client.get_model_trail()\n",
    "model_id = models[-1]['model']\n",
    "validations = client.get_validations(model_id=model_id)"
   ]
  },
  {
   "cell_type": "code",
   "execution_count": 44,
   "metadata": {},
   "outputs": [
    {
     "name": "stdout",
     "output_type": "stream",
     "text": [
      "{'count': 1, 'result': [{'correlationId': 'd09c5796-be66-4834-b02d-bfeba82a68d5', 'data': '{\"training_loss\": 1998.4945068359375, \"testing_loss\": 1481.1568603515625}', 'id': '67d2ea322820ae979f5620db', 'modelId': 'a599b012-209d-4442-a1d8-919e8aaf9b55', 'receiver': {'name': 'pokemon-ujd-fedn', 'role': 'COMBINER'}, 'sender': {'name': 'client042137cc', 'role': 'CLIENT'}, 'sessionId': '32ef921a-816a-49a4-a47b-d92e5e17229f', 'timestamp': '2025-03-13T14:22:43.342088Z'}]}\n"
     ]
    }
   ],
   "source": [
    "print(validations)"
   ]
  },
  {
   "cell_type": "code",
   "execution_count": 45,
   "metadata": {},
   "outputs": [],
   "source": [
    "x = client.get_active_clients()"
   ]
  },
  {
   "cell_type": "code",
   "execution_count": 46,
   "metadata": {},
   "outputs": [
    {
     "name": "stdout",
     "output_type": "stream",
     "text": [
      "{'count': 1, 'result': [{'client_id': '1ea29248-ad04-425e-8297-de355b1af2c3', 'combiner': 'pokemon-ujd-fedn', 'id': '67d2ea191456dfdee6b75f4c', 'ip': '10.92.1.11', 'last_seen': 'Thu, 13 Mar 2025 14:22:19 GMT', 'name': 'client042137cc', 'package': 'remote', 'status': 'online', 'updated_at': 'Thu, 13 Mar 2025 14:22:19 GMT'}]}\n"
     ]
    }
   ],
   "source": [
    "print(x)"
   ]
  }
 ],
 "metadata": {
  "kernelspec": {
   "display_name": "myenv",
   "language": "python",
   "name": "python3"
  },
  "language_info": {
   "codemirror_mode": {
    "name": "ipython",
    "version": 3
   },
   "file_extension": ".py",
   "mimetype": "text/x-python",
   "name": "python",
   "nbconvert_exporter": "python",
   "pygments_lexer": "ipython3",
   "version": "3.12.3"
  }
 },
 "nbformat": 4,
 "nbformat_minor": 2
}
