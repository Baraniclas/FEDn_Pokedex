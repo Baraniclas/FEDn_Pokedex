{
 "cells": [
  {
   "cell_type": "markdown",
   "metadata": {},
   "source": [
    "\"control panel\""
   ]
  },
  {
   "cell_type": "code",
   "execution_count": null,
   "metadata": {},
   "outputs": [],
   "source": [
    "from fedn import APIClient\n",
    "import os\n",
    "import json\n",
    "from dotenv import load_dotenv\n",
    "\n",
    "load_dotenv('.env')\n",
    "token = os.environ.get(\"ADMIN_TOKEN\")\n",
    "host = os.environ.get(\"HOST\")\n",
    "\n",
    "client = APIClient(host=host, token=token, secure=True, verify=True)"
   ]
  },
  {
   "cell_type": "code",
   "execution_count": 62,
   "metadata": {},
   "outputs": [
    {
     "data": {
      "text/plain": [
       "{'message': 'Model added successfully', 'success': True}"
      ]
     },
     "execution_count": 62,
     "metadata": {},
     "output_type": "execute_result"
    }
   ],
   "source": [
    "client.set_active_package(\"package.tgz\", helper=\"numpyhelper\", name=\"my-package\")\n",
    "client.set_active_model(\"seed.npz\")"
   ]
  },
  {
   "cell_type": "code",
   "execution_count": 57,
   "metadata": {},
   "outputs": [],
   "source": [
    "client.start_session(name=\"test_session\", rounds=5)\n",
    "client.get_controller_status()\n",
    "models = client.get_model_trail()\n",
    "model_id = models[-1]['model']\n",
    "validations = client.get_validations(model_id=model_id)"
   ]
  },
  {
   "cell_type": "code",
   "execution_count": 58,
   "metadata": {},
   "outputs": [
    {
     "name": "stdout",
     "output_type": "stream",
     "text": [
      "{'count': 2, 'result': [{'correlationId': 'cbaca121-2f14-488d-b0f3-f57d867d0dde', 'data': '{\"training_loss\": 418.8149108886719, \"testing_loss\": 406.28997802734375}', 'id': '67d40cc32820ae979f56216e', 'modelId': 'cbf1811c-7074-42c0-a8e9-0e4bc2a08c7f', 'receiver': {'name': 'pokemon-ujd-fedn', 'role': 'COMBINER'}, 'sender': {'name': 'clientf740f5e5', 'role': 'CLIENT'}, 'sessionId': 'af1ac068-1fca-41f4-8b12-3c7c52344807', 'timestamp': '2025-03-14T11:02:27.947309Z'}, {'correlationId': '9ab8c92d-6c93-4f2c-9132-7031601c8c18', 'data': '{\"training_loss\": 457.3478088378906, \"testing_loss\": 689.2628784179688}', 'id': '67d40cc32820ae979f56216c', 'modelId': 'cbf1811c-7074-42c0-a8e9-0e4bc2a08c7f', 'receiver': {'name': 'pokemon-ujd-fedn', 'role': 'COMBINER'}, 'sender': {'name': 'client0eda5959', 'role': 'CLIENT'}, 'sessionId': 'af1ac068-1fca-41f4-8b12-3c7c52344807', 'timestamp': '2025-03-14T11:02:27.885002Z'}]}\n"
     ]
    }
   ],
   "source": [
    "print(validations)"
   ]
  },
  {
   "cell_type": "code",
   "execution_count": 59,
   "metadata": {},
   "outputs": [],
   "source": [
    "x = client.get_active_clients()"
   ]
  },
  {
   "cell_type": "code",
   "execution_count": 60,
   "metadata": {},
   "outputs": [
    {
     "name": "stdout",
     "output_type": "stream",
     "text": [
      "{'count': 4, 'result': [{'client_id': '0694d8ff-a642-47ba-9007-3551f7e0d2c3', 'combiner': 'pokemon-ujd-fedn', 'id': '67d420ff1456dfdee60e1fe7', 'ip': '10.92.4.9', 'last_seen': 'Fri, 14 Mar 2025 12:28:50 GMT', 'name': 'client505c9b8e', 'package': 'remote', 'status': 'online', 'updated_at': 'Fri, 14 Mar 2025 12:28:50 GMT'}, {'client_id': 'd9072a96-9f2d-4779-996d-340a3ff8122b', 'combiner': 'pokemon-ujd-fedn', 'id': '67d420eb1456dfdee60e1b4a', 'ip': '10.92.4.9', 'last_seen': 'Fri, 14 Mar 2025 12:28:30 GMT', 'name': 'client4485ab58', 'package': 'remote', 'status': 'online', 'updated_at': 'Fri, 14 Mar 2025 12:28:30 GMT'}, {'client_id': '8f38555b-c72a-4b69-b06d-6b58fcd6a5b0', 'combiner': 'pokemon-ujd-fedn', 'id': '67d420d91456dfdee60e1766', 'ip': '10.92.5.14', 'last_seen': 'Fri, 14 Mar 2025 12:28:13 GMT', 'name': 'client2848246d', 'package': 'remote', 'status': 'online', 'updated_at': 'Fri, 14 Mar 2025 12:28:13 GMT'}, {'client_id': '7b8c28d4-6823-44ec-aafc-44da500996e5', 'combiner': 'pokemon-ujd-fedn', 'id': '67d420bd1456dfdee60e113a', 'ip': '10.92.1.11', 'last_seen': 'Fri, 14 Mar 2025 12:27:48 GMT', 'name': 'client9dc88610', 'package': 'remote', 'status': 'online', 'updated_at': 'Fri, 14 Mar 2025 12:27:48 GMT'}]}\n"
     ]
    }
   ],
   "source": [
    "print(x)"
   ]
  }
 ],
 "metadata": {
  "kernelspec": {
   "display_name": "myenv",
   "language": "python",
   "name": "python3"
  },
  "language_info": {
   "codemirror_mode": {
    "name": "ipython",
    "version": 3
   },
   "file_extension": ".py",
   "mimetype": "text/x-python",
   "name": "python",
   "nbconvert_exporter": "python",
   "pygments_lexer": "ipython3",
   "version": "3.12.3"
  }
 },
 "nbformat": 4,
 "nbformat_minor": 2
}
