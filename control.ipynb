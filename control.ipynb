{
 "cells": [
  {
   "cell_type": "markdown",
   "metadata": {},
   "source": [
    "\"control panel\""
   ]
  },
  {
   "cell_type": "code",
   "execution_count": 63,
   "metadata": {},
   "outputs": [],
   "source": [
    "from fedn import APIClient\n",
    "import os\n",
    "import json\n",
    "from dotenv import load_dotenv\n",
    "\n",
    "load_dotenv('.env')\n",
    "token = os.environ.get(\"ADMIN_TOKEN\")\n",
    "host = os.environ.get(\"HOST\")\n",
    "\n",
    "client = APIClient(host=host, token=token, secure=True, verify=True)"
   ]
  },
  {
   "cell_type": "code",
   "execution_count": 64,
   "metadata": {},
   "outputs": [
    {
     "data": {
      "text/plain": [
       "{'message': 'Model added successfully', 'success': True}"
      ]
     },
     "execution_count": 64,
     "metadata": {},
     "output_type": "execute_result"
    }
   ],
   "source": [
    "client.set_active_package(\"package.tgz\", helper=\"numpyhelper\", name=\"my-package\")\n",
    "client.set_active_model(\"seed.npz\")"
   ]
  },
  {
   "cell_type": "code",
   "execution_count": 65,
   "metadata": {},
   "outputs": [],
   "source": [
    "client.start_session(name=\"test_session\", rounds=5)\n",
    "client.get_controller_status()\n",
    "models = client.get_model_trail()\n",
    "model_id = models[-1]['model']\n",
    "validations = client.get_validations(model_id=model_id)"
   ]
  },
  {
   "cell_type": "code",
   "execution_count": 58,
   "metadata": {},
   "outputs": [
    {
     "name": "stdout",
     "output_type": "stream",
     "text": [
      "{'count': 2, 'result': [{'correlationId': 'cbaca121-2f14-488d-b0f3-f57d867d0dde', 'data': '{\"training_loss\": 418.8149108886719, \"testing_loss\": 406.28997802734375}', 'id': '67d40cc32820ae979f56216e', 'modelId': 'cbf1811c-7074-42c0-a8e9-0e4bc2a08c7f', 'receiver': {'name': 'pokemon-ujd-fedn', 'role': 'COMBINER'}, 'sender': {'name': 'clientf740f5e5', 'role': 'CLIENT'}, 'sessionId': 'af1ac068-1fca-41f4-8b12-3c7c52344807', 'timestamp': '2025-03-14T11:02:27.947309Z'}, {'correlationId': '9ab8c92d-6c93-4f2c-9132-7031601c8c18', 'data': '{\"training_loss\": 457.3478088378906, \"testing_loss\": 689.2628784179688}', 'id': '67d40cc32820ae979f56216c', 'modelId': 'cbf1811c-7074-42c0-a8e9-0e4bc2a08c7f', 'receiver': {'name': 'pokemon-ujd-fedn', 'role': 'COMBINER'}, 'sender': {'name': 'client0eda5959', 'role': 'CLIENT'}, 'sessionId': 'af1ac068-1fca-41f4-8b12-3c7c52344807', 'timestamp': '2025-03-14T11:02:27.885002Z'}]}\n"
     ]
    }
   ],
   "source": [
    "print(validations)"
   ]
  },
  {
   "cell_type": "code",
   "execution_count": 70,
   "metadata": {},
   "outputs": [],
   "source": [
    "x = client.get_active_clients()"
   ]
  },
  {
   "cell_type": "code",
   "execution_count": 71,
   "metadata": {},
   "outputs": [
    {
     "name": "stderr",
     "output_type": "stream",
     "text": [
      "2025-03-14 14:43:15 [INFO] {'count': 0, 'result': []}\n"
     ]
    }
   ],
   "source": [
    "print(x)"
   ]
  }
 ],
 "metadata": {
  "kernelspec": {
   "display_name": "myenv",
   "language": "python",
   "name": "python3"
  },
  "language_info": {
   "codemirror_mode": {
    "name": "ipython",
    "version": 3
   },
   "file_extension": ".py",
   "mimetype": "text/x-python",
   "name": "python",
   "nbconvert_exporter": "python",
   "pygments_lexer": "ipython3",
   "version": "3.12.3"
  }
 },
 "nbformat": 4,
 "nbformat_minor": 2
}
